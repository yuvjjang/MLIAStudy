{
 "metadata": {
  "name": ""
 },
 "nbformat": 3,
 "nbformat_minor": 0,
 "worksheets": [
  {
   "cells": [
    {
     "cell_type": "heading",
     "level": 1,
     "metadata": {},
     "source": [
      "Machine Learning In action Study"
     ]
    },
    {
     "cell_type": "heading",
     "level": 2,
     "metadata": {},
     "source": [
      "Chapter 3. \uc758\uc0ac\uacb0\uc815 \ud2b8\ub9ac: \ud55c \ubc88\uc5d0 \ud558\ub098\uc758 \uc18d\uc131\uc73c\ub85c \ub370\uc774\ud130 \uc9d1\ud569 \ubd84\ud560\ud558\uae30"
     ]
    },
    {
     "cell_type": "code",
     "collapsed": false,
     "input": [
      "from math import log\n"
     ],
     "language": "python",
     "metadata": {},
     "outputs": []
    }
   ],
   "metadata": {}
  }
 ]
}