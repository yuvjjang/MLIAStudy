{
 "metadata": {
  "name": ""
 },
 "nbformat": 3,
 "nbformat_minor": 0,
 "worksheets": [
  {
   "cells": [
    {
     "cell_type": "markdown",
     "metadata": {},
     "source": [
      "#5\uc7a5 \ub85c\uc9c0\uc2a4\ud2f1\ud68c\uadc0"
     ]
    },
    {
     "cell_type": "markdown",
     "metadata": {},
     "source": [
      "##5.1 \ub85c\uc9c0\uc2a4\ud2f1 \ud68c\uadc0\uc640 \uc2dc\uadf8\ubaa8\uc774\ub4dc \ud568\uc218\ub85c \ubd84\ub958\ud558\uae30 : \ub2e4\ub8e8\uae30 \uc26c\uc6b4 \uacc4\ub2e8 \ud568\uc218"
     ]
    },
    {
     "cell_type": "markdown",
     "metadata": {},
     "source": [
      "##5.2 \uac00\uc7a5 \uc88b\uc740 \ud68c\uadc0 \uacc4\uc218\ub97c \ucc3e\uae30 \uc704\ud574 \ucd5c\uc801\ud654 \uc0ac\uc6a9\ud558\uae30"
     ]
    },
    {
     "cell_type": "markdown",
     "metadata": {},
     "source": [
      "##5.2.1 \uae30\uc6b8\uae30 \uc0c1\uc2b9"
     ]
    },
    {
     "cell_type": "markdown",
     "metadata": {},
     "source": [
      "##5.2.2\ud6c8\ub828: \uae30\uc6b8\uae30 \uc0c1\uc2b9\uc744 \uc0ac\uc6a9\ud558\uc5ec \uac00\uc7a5 \uc88b\uc740 \ub9e4\uac1c\ubcc0\uc218 \ucc3e\uae30"
     ]
    },
    {
     "cell_type": "code",
     "collapsed": false,
     "input": [
      "%matplotlib inline\n",
      "from numpy import *\n",
      "\n",
      "def loadDataSet():\n",
      "    dataMat = []; labelMat = []\n",
      "    fr = open('testSet.txt')\n",
      "    for line in fr.readlines():\n",
      "        lineArr = line.strip().split()\n",
      "        dataMat.append([1.0, float(lineArr[0]), float(lineArr[1])])\n",
      "        labelMat.append(int(lineArr[2]))\n",
      "    return dataMat,labelMat\n",
      "\n",
      "def sigmoid(inX):\n",
      "    return 1.0/(1+exp(-inX))\n",
      "\n",
      "def gradAscent(dataMatIn, classLabels):\n",
      "    #print(dataMatIn)\n",
      "    dataMatrix = mat(dataMatIn)             #convert to NumPy matrix\n",
      "    #print(dataMatrix)\n",
      "    #print(classLabels)\n",
      "    labelMat = mat(classLabels).transpose() #convert to NumPy matrix\n",
      "    #print(labelMat)\n",
      "    m,n = shape(dataMatrix)\n",
      "    alpha = 0.001\n",
      "    maxCycles = 500\n",
      "    weights = ones((n,1))\n",
      "    for k in range(maxCycles):              #heavy on matrix operations\n",
      "        h = sigmoid(dataMatrix*weights)     #matrix mult\n",
      "        error = (labelMat - h)              #vector subtraction\n",
      "        weights = weights + alpha * dataMatrix.transpose()* error #matrix mult\n",
      "    return weights"
     ],
     "language": "python",
     "metadata": {},
     "outputs": [],
     "prompt_number": 7
    },
    {
     "cell_type": "code",
     "collapsed": false,
     "input": [
      "dataArr, labelMat = loadDataSet()"
     ],
     "language": "python",
     "metadata": {},
     "outputs": [],
     "prompt_number": 8
    },
    {
     "cell_type": "code",
     "collapsed": false,
     "input": [
      "weights=gradAscent(dataArr, labelMat)"
     ],
     "language": "python",
     "metadata": {},
     "outputs": [],
     "prompt_number": 9
    },
    {
     "cell_type": "markdown",
     "metadata": {},
     "source": [
      "##5.2.3 \ubd84\uc11d: \uc758\uc0ac\uacb0\uc815 \uacbd\uacc4\uc120 \ud50c\ub86f\ud558\uae30"
     ]
    },
    {
     "cell_type": "code",
     "collapsed": false,
     "input": [
      "def plotBestFit(weights):\n",
      "    import matplotlib.pyplot as plt\n",
      "    dataMat,labelMat=loadDataSet()\n",
      "    dataArr = array(dataMat)\n",
      "    n = shape(dataArr)[0] \n",
      "    xcord1 = []; ycord1 = []\n",
      "    xcord2 = []; ycord2 = []\n",
      "    for i in range(n):\n",
      "        if int(labelMat[i])== 1:\n",
      "            xcord1.append(dataArr[i,1]); ycord1.append(dataArr[i,2])\n",
      "        else:\n",
      "            xcord2.append(dataArr[i,1]); ycord2.append(dataArr[i,2])\n",
      "    fig = plt.figure()\n",
      "    ax = fig.add_subplot(111)\n",
      "    ax.scatter(xcord1, ycord1, s=30, c='red', marker='s')\n",
      "    ax.scatter(xcord2, ycord2, s=30, c='green')\n",
      "    x = arange(-3.0, 3.0, 0.1)\n",
      "    y = (-weights[0]-weights[1]*x)/weights[2]\n",
      "    ax.plot(x, y)\n",
      "    plt.xlabel('X1'); plt.ylabel('X2');\n",
      "    plt.show()\n"
     ],
     "language": "python",
     "metadata": {},
     "outputs": [],
     "prompt_number": 10
    },
    {
     "cell_type": "code",
     "collapsed": false,
     "input": [
      "plotBestFit(weights.getA())"
     ],
     "language": "python",
     "metadata": {},
     "outputs": [
      {
       "metadata": {},
       "output_type": "display_data",
       "png": "[encoded data removed]",
       "text": [
        "<matplotlib.figure.Figure at 0xb666b60c>"
       ]
      }
     ],
     "prompt_number": 11
    },
    {
     "cell_type": "markdown",
     "metadata": {},
     "source": [
      "##5.2.4 \ud6c8\ub828: \ud655\ub960\uc801\uc778 \uae30\uc6b8\uae30 \uc0c1\uc2b9"
     ]
    },
    {
     "cell_type": "code",
     "collapsed": false,
     "input": [
      "def stocGradAscent0(dataMatrix, classLabels):\n",
      "    m,n = shape(dataMatrix)\n",
      "    alpha = 0.01\n",
      "    weights = ones(n)   #initialize to all ones\n",
      "    for i in range(m):\n",
      "        h = sigmoid(sum(dataMatrix[i]*weights))\n",
      "        error = classLabels[i] - h\n",
      "        weights = weights + alpha * error * dataMatrix[i]\n",
      "    return weights"
     ],
     "language": "python",
     "metadata": {},
     "outputs": [],
     "prompt_number": 12
    },
    {
     "cell_type": "code",
     "collapsed": false,
     "input": [
      "dataArr, labelMat = loadDataSet()"
     ],
     "language": "python",
     "metadata": {},
     "outputs": [],
     "prompt_number": 13
    },
    {
     "cell_type": "code",
     "collapsed": false,
     "input": [
      "weights = stocGradAscent0(array(dataArr), labelMat)"
     ],
     "language": "python",
     "metadata": {},
     "outputs": [],
     "prompt_number": 14
    },
    {
     "cell_type": "code",
     "collapsed": false,
     "input": [
      "plotBestFit(weights)"
     ],
     "language": "python",
     "metadata": {},
     "outputs": [
      {
       "metadata": {},
       "output_type": "display_data",
       "png": "[encoded data removed]",
       "text": [
        "<matplotlib.figure.Figure at 0xb138330c>"
       ]
      }
     ],
     "prompt_number": 15
    },
    {
     "cell_type": "code",
     "collapsed": false,
     "input": [
      "def stocGradAscent1(dataMatrix, classLabels, numIter=150):\n",
      "    m,n = shape(dataMatrix)\n",
      "    weights = ones(n)   #initialize to all ones\n",
      "    for j in range(numIter):\n",
      "        dataIndex = range(m)\n",
      "        for i in range(m):\n",
      "            alpha = 4/(1.0+j+i)+0.0001    #apha decreases with iteration, does not \n",
      "            randIndex = int(random.uniform(0,len(dataIndex)))#go to 0 because of the constant\n",
      "            h = sigmoid(sum(dataMatrix[randIndex]*weights))\n",
      "            error = classLabels[randIndex] - h\n",
      "            weights = weights + alpha * error * dataMatrix[randIndex]\n",
      "            del(dataIndex[randIndex])\n",
      "    return weights"
     ],
     "language": "python",
     "metadata": {},
     "outputs": [],
     "prompt_number": 16
    },
    {
     "cell_type": "code",
     "collapsed": false,
     "input": [
      "dataArr, labelMat = loadDataSet()"
     ],
     "language": "python",
     "metadata": {},
     "outputs": [],
     "prompt_number": 17
    },
    {
     "cell_type": "code",
     "collapsed": false,
     "input": [
      "weights = stocGradAscent1(array(dataArr), labelMat)"
     ],
     "language": "python",
     "metadata": {},
     "outputs": [],
     "prompt_number": 18
    },
    {
     "cell_type": "code",
     "collapsed": false,
     "input": [
      "plotBestFit(weights)"
     ],
     "language": "python",
     "metadata": {},
     "outputs": [
      {
       "metadata": {},
       "output_type": "display_data",
       "png": "[encoded data removed]",
       "text": [
        "<matplotlib.figure.Figure at 0xb13b7e2c>"
       ]
      }
     ],
     "prompt_number": 19
    },
    {
     "cell_type": "code",
     "collapsed": false,
     "input": [
      "weights = stocGradAscent1(array(dataArr), labelMat, 500)"
     ],
     "language": "python",
     "metadata": {},
     "outputs": [],
     "prompt_number": 20
    },
    {
     "cell_type": "code",
     "collapsed": false,
     "input": [
      "plotBestFit(weights)"
     ],
     "language": "python",
     "metadata": {},
     "outputs": [
      {
       "metadata": {},
       "output_type": "display_data",
       "png": "[encoded data removed]",
       "text": [
        "<matplotlib.figure.Figure at 0xb668c30c>"
       ]
      }
     ],
     "prompt_number": 21
    },
    {
     "cell_type": "markdown",
     "metadata": {},
     "source": [
      "##5.3 \uc608\uc81c: \ub9d0\uc758 \ubc30\uc553\uc774 \uce58\uc0ac\uc728 \ud3c9\uac00\ud558\uae30"
     ]
    },
    {
     "cell_type": "markdown",
     "metadata": {},
     "source": [
      "##5.3.1 \uc900\ube44: \ub370\uc774\ud130\uc5d0\uc11c \ub204\ub77d\ub41c \uac12 \ub2e4\ub8e8\uae30"
     ]
    },
    {
     "cell_type": "markdown",
     "metadata": {},
     "source": [
      "##5.3.2 \uac80\uc0ac: \ub85c\uc9c0\uc2a4\ud2f1 \ud68c\uadc0\ub85c \ubd84\ub958\ud558\uae30"
     ]
    },
    {
     "cell_type": "code",
     "collapsed": false,
     "input": [
      "def classifyVector(inX, weights):\n",
      "    prob = sigmoid(sum(inX*weights))\n",
      "    if prob > 0.5: return 1.0\n",
      "    else: return 0.0\n",
      "\n",
      "def colicTest():\n",
      "    frTrain = open('horseColicTraining.txt'); frTest = open('horseColicTest.txt')\n",
      "    trainingSet = []; trainingLabels = []\n",
      "    for line in frTrain.readlines():\n",
      "        currLine = line.strip().split('\\t')\n",
      "        lineArr =[]\n",
      "        for i in range(21):\n",
      "            lineArr.append(float(currLine[i]))\n",
      "        trainingSet.append(lineArr)\n",
      "        trainingLabels.append(float(currLine[21]))\n",
      "    trainWeights = stocGradAscent1(array(trainingSet), trainingLabels, 1000)\n",
      "    errorCount = 0; numTestVec = 0.0\n",
      "    for line in frTest.readlines():\n",
      "        numTestVec += 1.0\n",
      "        currLine = line.strip().split('\\t')\n",
      "        lineArr =[]\n",
      "        for i in range(21):\n",
      "            lineArr.append(float(currLine[i]))\n",
      "        if int(classifyVector(array(lineArr), trainWeights))!= int(currLine[21]):\n",
      "            errorCount += 1\n",
      "    errorRate = (float(errorCount)/numTestVec)\n",
      "    print \"the error rate of this test is: %f\" % errorRate\n",
      "    return errorRate\n",
      "\n",
      "def multiTest():\n",
      "    numTests = 10; errorSum=0.0\n",
      "    for k in range(numTests):\n",
      "        errorSum += colicTest()\n",
      "    print \"after %d iterations the average error rate is: %f\" % (numTests, errorSum/float(numTests))\n"
     ],
     "language": "python",
     "metadata": {},
     "outputs": [],
     "prompt_number": 22
    },
    {
     "cell_type": "code",
     "collapsed": false,
     "input": [
      "multiTest()"
     ],
     "language": "python",
     "metadata": {},
     "outputs": [
      {
       "output_type": "stream",
       "stream": "stdout",
       "text": [
        "the error rate of this test is: 0.328358\n",
        "the error rate of this test is: 0.343284"
       ]
      },
      {
       "output_type": "stream",
       "stream": "stdout",
       "text": [
        "\n",
        "the error rate of this test is: 0.402985"
       ]
      },
      {
       "output_type": "stream",
       "stream": "stdout",
       "text": [
        "\n",
        "the error rate of this test is: 0.343284"
       ]
      },
      {
       "output_type": "stream",
       "stream": "stdout",
       "text": [
        "\n",
        "the error rate of this test is: 0.313433"
       ]
      },
      {
       "output_type": "stream",
       "stream": "stdout",
       "text": [
        "\n",
        "the error rate of this test is: 0.298507"
       ]
      },
      {
       "output_type": "stream",
       "stream": "stdout",
       "text": [
        "\n",
        "the error rate of this test is: 0.298507"
       ]
      },
      {
       "output_type": "stream",
       "stream": "stdout",
       "text": [
        "\n",
        "the error rate of this test is: 0.402985"
       ]
      },
      {
       "output_type": "stream",
       "stream": "stdout",
       "text": [
        "\n",
        "the error rate of this test is: 0.432836"
       ]
      },
      {
       "output_type": "stream",
       "stream": "stdout",
       "text": [
        "\n",
        "the error rate of this test is: 0.328358"
       ]
      },
      {
       "output_type": "stream",
       "stream": "stdout",
       "text": [
        "\n",
        "after 10 iterations the average error rate is: 0.349254\n"
       ]
      },
      {
       "output_type": "stream",
       "stream": "stderr",
       "text": [
        "-c:14: RuntimeWarning: overflow encountered in exp\n"
       ]
      }
     ],
     "prompt_number": 23
    },
    {
     "cell_type": "markdown",
     "metadata": {},
     "source": [
      "##5.4 \uc694\uc57d"
     ]
    },
    {
     "cell_type": "markdown",
     "metadata": {},
     "source": []
    }
   ],
   "metadata": {}
  }
 ]
}