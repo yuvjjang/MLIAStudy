{
 "metadata": {
  "name": ""
 },
 "nbformat": 3,
 "nbformat_minor": 0,
 "worksheets": [
  {
   "cells": [
    {
     "cell_type": "heading",
     "level": 1,
     "metadata": {},
     "source": [
      "Machine Learning In action Study"
     ]
    },
    {
     "cell_type": "heading",
     "level": 2,
     "metadata": {},
     "source": [
      "Chapter 3. \uc758\uc0ac\uacb0\uc815 \ud2b8\ub9ac: \ud55c \ubc88\uc5d0 \ud558\ub098\uc758 \uc18d\uc131\uc73c\ub85c \ub370\uc774\ud130 \uc9d1\ud569 \ubd84\ud560\ud558\uae30"
     ]
    },
    {
     "cell_type": "markdown",
     "metadata": {},
     "source": [
      "\n",
      "* \uc758\uc0ac\uacb0\uc815 \ud2b8\ub9ac\ub294 \ub9c8\uce58 \uc2a4\ubb34\uace0\uac1c \uac8c\uc784\ucc98\ub7fc \ub3d9\uc791\n",
      "\n",
      "* \uc758\uc0ac\uacb0\uc815 \ud2b8\ub9ac\uc5d0\uac8c \ub370\uc774\ud130 \ubb36\uc74c\uc744 \uc8fc\uba74, \uadf8\uc5d0 \ub9de\ub294 \ub2f5\ubcc0\uc744 \uc0dd\uc131\n",
      "\n"
     ]
    },
    {
     "cell_type": "markdown",
     "metadata": {},
     "source": [
      "\\begin{equation*}\n",
      "\\mathbf{H} =  -\\sum_{i=1}^n p(x_i)log_2p(x_i)\n",
      "\\end{equation*}"
     ]
    },
    {
     "cell_type": "heading",
     "level": 4,
     "metadata": {},
     "source": [
      "createBranch()'s pseudo code"
     ]
    },
    {
     "cell_type": "markdown",
     "metadata": {},
     "source": [
      "* *Check if every item in the dataset is in the same class :*\n",
      "    * *If so return the class label*\n",
      "    * *Else*\n",
      "        * *find the best feature to split the data*\n",
      "        * *split the dataset*\n",
      "        * *create a branc node*\n",
      "            * *for each split*\n",
      "                * *call createBranch and add the result to the branch node*\n",
      "        * *return branch node*   \n",
      "    \n",
      "    "
     ]
    },
    {
     "cell_type": "code",
     "collapsed": false,
     "input": [
      "from math import log\n",
      "\n",
      "def calcShannonEnt(dataSet):\n",
      "    numEntries = len(dataSet)\n",
      "    labelCounts = {}\n",
      "    for featVec in dataSet:\n",
      "        currentLable = featVec[-1]\n",
      "        if currentLabel not in labelCounts.keys():\n",
      "            labelCounts[currentLabel]=0\n",
      "            labelCounts[currentLabel] +=1\n",
      "        shannonEnt =0.0\n",
      "    for key in labelCounts:\n",
      "        prob = float(labelCounts[key]) / numEntries\n",
      "        \n",
      "        shannonEnt -= prob * log(prob, 2)\n",
      "    return shannonEnt"
     ],
     "language": "python",
     "metadata": {},
     "outputs": [],
     "prompt_number": 3
    },
    {
     "cell_type": "code",
     "collapsed": false,
     "input": [],
     "language": "python",
     "metadata": {},
     "outputs": []
    }
   ],
   "metadata": {}
  }
 ]
}