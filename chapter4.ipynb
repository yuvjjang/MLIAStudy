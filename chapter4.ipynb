{
 "metadata": {
  "name": ""
 },
 "nbformat": 3,
 "nbformat_minor": 0,
 "worksheets": [
  {
   "cells": [
    {
     "cell_type": "heading",
     "level": 1,
     "metadata": {
      "slideshow": {
       "slide_type": "-"
      }
     },
     "source": [
      "Machine Learning In action Study"
     ]
    },
    {
     "cell_type": "heading",
     "level": 2,
     "metadata": {},
     "source": [
      "Chapter 4. \ub098\uc774\ube0c\ubca0\uc774\uc2a4 : \ud655\ub960 \uc774\ub860\uc73c\ub85c \ubd84\ub958\ud558\uae30"
     ]
    },
    {
     "cell_type": "markdown",
     "metadata": {},
     "source": [
      "\n",
      "- \ubd84\ub958\uae30\ub294 \uc798\ubabb\ub41c \ub2f5\ubcc0\uc744 \uc8fc\uae30\ub3c4 \ud558\ubbc0\ub85c, \ud655\uc2e4\ud55c \ub2f5\ubcc0\uc744 \uc694\uad6c\ud558\uae30\ubcf4\ub2e4 \ud655\ub960\uc744 \uc694\uad6c\ud560 \uc218 \uc788\ub2e4\n",
      "- \ub9ce\uc740 \uae30\uacc4 \ud559\uc2b5 \uc54c\uace0\ub9ac\uc998\ub4e4\uc740 \ud655\ub960 \uc774\ub860\uc5d0 \uae30\ubc18\n",
      "- \ud655\ub960 \uc774\ub860\uc73c\ub85c \ub370\uc774\ud130\ub97c \ubd84\ub958\ud558\ub294 \uba87 \uac00\uc9c0 \ubc29\ubc95\uc744 \uc54c\uc544\ubcf8\ub2e4.\n",
      "- \uc774\ubc88 \uc7a5\uc740 \uc57d\uac04\uc758 \uac00\uc815\uc744 \uc138\uc6b0\uace0 Naive Bayes \ubd84\ub958\uae30\ub97c \ud559\uc2b5\ud55c\ub2e4.\n",
      "- \uacf5\uc2dd\uc5d0\uc11c \uba87 \uac00\uc9c0 \uac00\uc815\ub4e4\uc774 \ub098\uc774\ube0c\ud558\uac8c \ub418\uc5b4 \uc788\ub2e4\ub294 \uac83\uc744 \uac00\uc815\ud558\uace0 \uc788\ub2e4.\n"
     ]
    },
    {
     "cell_type": "markdown",
     "metadata": {},
     "source": [
      "### 4.1 \ubca0\uc774\uc9c0\uc548 \uc758\uc0ac\uacb0\uc815 \uc774\ub860\uc73c\ub85c \ubd84\ub958\ud558\uae30/4.2 \uc870\uac74\ubd80 \ud655\ub960"
     ]
    },
    {
     "cell_type": "markdown",
     "metadata": {},
     "source": [
      "- \ub098\uc774\ube0c \ubca0\uc774\uc2a4\n",
      "    - \uc7a5\uc810 : \uc18c\ub7c9\uc758 \ub370\uc774\ud130\ub97c \uac00\uc9c0\uace0 \uc791\uc5c5\uc774 \uc774\ub8e8\uc5b4\uc9c0\uba70, \uc5ec\ub7ec \uac1c\uc758 \ubd84\ub958 \ud56d\ubaa9\uc744 \ub2e4\ub8f0 \uc218 \uc788\ub530.\n",
      "    - \ub2e8\uc810 : \uc785\ub825 \ub370\uc774\ud130\ub97c \uc5b4\ub5bb\uac8c \uc900\ube44\ud558\ub290\ub0d0\uc5d0 \ub530\ub77c \ubbfc\uac10\ud558\uac8c \uc791\uc6a9\ud55c\ub2e4.\n",
      "    - \uc801\uc6a9 : \uba85\ubaa9\ud615 \uac12\n",
      "- \ub098\uc774\ube0c \uc81c\uc774\uc2a4\ub294 \ubca0\uc774\uc2a4 \uc815\ub9ac\uc758 \uc77c\ubd80\ubd84\n",
      "- \ub370\uc774\ud130 \ub0b4\uc5d0 \ub450 \uac1c\uc758 \ubd84\ub958 \ud56d\ubaa9\uc774 \uc788\ub294 \ub370\uc774\ud130 \uc9d1\ud569\uc744 \uac00\uc9c0\uace0 \uc788\ub2e4\uace0 \uac00\uc815\n",
      "- \ub370\uc774\ud130 \ubd84\ub958 \ud56d\ubaa9\uc5d0 \ud1b5\uacc4\uc801 \ub9e4\uac1c\ubcc0\uc218\ub97c \ucc3e\uc558\ub2e4\uace0 \uac00\uc815(10\uc7a5\uc5d0\uc11c \ub2e4\ub8f8)\n",
      "    - $p1(x,y) > p2(x, y)$\uc774\uba74, \ubd84\ub958 \ud56d\ubaa9 1\uc5d0 \uc18d\ud55c\ub2e4.\n",
      "    - $p1(x,y) < p2(x, y)$\uc774\uba74, \ubd84\ub958 \ud56d\ubaa9 2\uc5d0 \uc18d\ud55c\ub2e4.\n",
      "        - \ub354 \ub192\uc740 \ud655\ub960\uc744 \uac00\uc9c0\ub294 \ubd84\ub958 \ud56d\ubaa9\uc744 \uc120\ud0dd\ud55c\ub2e4\ub294 \uc758\ubbf8\n",
      "- \uc758\uc0ac\uacb0\uc815 \ud2b8\ub9ac\ub294 \ube44\uc815\uc0c1\uc801\uc77c \uc218 \uc788\uc5c8\uc73c\uba70,\n",
      "- kNN\uc740 \ub9ce\uc740 \uc5f0\uc0b0\uc774 \ud544\uc694\n",
      "- \ud655\ub960\uc801 \ube44\uad50\ub85c \uc880 \uac04\ub2e8\ud558\uac8c \uc88b\uc740 \uacb0\uacfc\ub97c \uc5bb\uc744 \uc218 \uc788\ub2e4.\n",
      "- \ubca0\uc774\uc2a4 \uc815\ub9ac\n",
      "    </br>From the definition of conditional probability we have\n",
      "\n",
      "    $p(a|b)   =  \\frac{p(a,b)}{p(b)}$        (1)\n",
      "\n",
      "    from the same definition we also have\n",
      "\n",
      "    $p(b|a)   =  \\frac{p(a,b)}{p(a)}$        (2)\n",
      "    So, \n",
      "    $p(a,b) = p(a|b) p(b)$          from (1)\n",
      "    </br>\n",
      "    $p(a,b) = p(b|a) p(a)$          from (2)\n",
      "    Rearranging the 2 right hand sides, we get:\n",
      "    </br>\n",
      "    $p(a|b) = \\frac{p(b|a) p(a)}{p(b)}$               (This is Bayes\u2019 rule)\n",
      "    </br>\n",
      "    </br>\n",
      "    In practice an agent must reason as follows </br>\n",
      "    **effects ->  causes</br>**\n",
      "    </br>\n",
      "    e.g., sensor signals -> road conditions</br>\n",
      "\te.g., symptoms -> diseases</br>\n",
      "\n",
      "\n",
      "    But normally we build models in the \u201cforward\u201d causal direction \n",
      "\n",
      "    causes ->  effects\n",
      "    e.g., road conditions -> sensor signals  \n",
      "\te.g., diseases -> symptoms\n",
      "\n",
      "    Bayes rule allows us to work\u201dbackward\u201d using the output of the forward model to  to infer causes (inputs)\n",
      "    => very useful in applications involving diagnosis\n",
      "    can involve complex probabilistic reasoning"
     ]
    },
    {
     "cell_type": "markdown",
     "metadata": {
      "slideshow": {
       "slide_type": "-"
      }
     },
     "source": [
      "\uc989, $p(a|b)$\ub97c \uc54c\uace0 \uc2f6\ub2e4\uba74,\n",
      "$p(a|b) = \\frac{p(b|a) p(a)}{p(b)}$\n",
      "\ub97c \ud1b5\ud574\uc11c \uc54c \uc218 \uc788\ub2e4."
     ]
    },
    {
     "cell_type": "markdown",
     "metadata": {},
     "source": [
      "### 4.3  \uc870\uac74\ubd80 \ud655\ub960\ub85c \ubd84\ub958\ud558\uae30"
     ]
    },
    {
     "cell_type": "markdown",
     "metadata": {},
     "source": [
      "\uc6b0\ub9ac\uac00 \ud544\uc694\ub85c \ud558\ub294 \uac83\uc740 $p(c_1|x,y)$, $p(c_2|x,y)$ \uc774\ub2e4. (\uc65c?)</br>\n",
      "(x, y)\uac00 \uc8fc\uc5b4\uc84c\ub2e4\uba74, \uc774 \uc9c0\uc810\uc774 \ubd84\ub958 \ud56d\ubaa9 c1\uc5d0 \uc18d\ud560 \ud655\ub960\uc740 \uc5bc\ub9c8\ub098 \ub420 \uac83\uc778\uac00?</br>\n",
      "(x, y)\uac00 \uc8fc\uc5b4\uc84c\ub2e4\uba74, \uc774 \uc9c0\uc810\uc774 \ubd84\ub958 \ud56d\ubaa9 c2\uc5d0 \uc18d\ud560 \ud655\ub960\uc740 \uc5bc\ub9c8\ub098 \ub420 \uac83\uc778\uac00?</br>\n",
      "\ubd84\ub958 \ud56d\ubaa9 c1\uc774 \uc8fc\uc5b4\uc84c\ub2e4\uba74, \uc774 \uc9c0\uc810\uc774 x,y\uc77c \ud655\ub960\uc740 \uc5bc\ub9c8\ub098 \ub420 \uac83\uc778\uac00\ub97c \ud1b5\ud574\uc11c \ud574\uacb0\ud560 \uc218 \uc788\ub2e4.</br>\n",
      "</br>\n",
      "$p(c_i|x,y)   =  \\frac{p(x,y|c_i)p(c_i)}{p(x,y)}$\n",
      "</br>\ub530\ub77c\uc11c,</br>\n",
      "\ub9cc\uc57d\uc5d0 $p(c_1|x,y)$ > $p(c_2|x,y)$\uc774\uba74, \ubd84\ub958 \ud56d\ubaa9 c1\uc5d0 \uc18d\ud55c\ub2e4.\n",
      "</br>\n",
      "\ub9cc\uc57d\uc5d0 $p(c_1|x,y)$ < $p(c_2|x,y)$\uc774\uba74, \ubd84\ub958 \ud56d\ubaa9 c2\uc5d0 \uc18d\ud55c\ub2e4.\n",
      "\n",
      "\ubca0\uc774\uc2a4 \uaddc\uce59\uc744 \uc0ac\uc6a9\ud568\uc73c\ub85c\uc368, \uc54c\ub824\uc9c4 \uc815\ubcf4\ub85c\ubd80\ud130 \uc54c\ub824\uc9c0\uc9c0 \uc54a\uc740 \uac83\uc5d0 \ub300\ud55c \ud655\ub960\uc744 \uacc4\uc0b0\ud560 \uc218 \uc788\ub2e4."
     ]
    },
    {
     "cell_type": "markdown",
     "metadata": {},
     "source": [
      "###4.4 \ub098\uc774\ube0c \ubca0\uc774\uc2a4\ub85c \ubb38\uc11c \ubd84\ub958\ud558\uae30"
     ]
    },
    {
     "cell_type": "markdown",
     "metadata": {},
     "source": [
      "- \uae30\uacc4 \ud559\uc2b5\uc758 \uc911\uc694\ud55c \uc751\uc6a9 \ud504\ub85c\uadf8\ub7a8\uc73c\ub85c \uc790\ub3d9 \ubb38\uc11c \ubd84\ub958 \ud504\ub85c\uadf8\ub7a8\uc774 \uc788\ub2e4.\n",
      "    - \ubb38\uc218 \ubd84\ub958\uc5d0 \uc788\uc5b4\uc11c \uc804\uccb4 \ubb38\uc11c \uc608\ub97c \ub4e4\uba74 \uac01\uac01\uc758 \uc774\uba54\uc77c\uc740 \uc0ac\ub840\uac00 \ub41c\ub2e4.\n",
      "        - \uc774\uba54\uc77c\uc744 \uad6c\uc131\ud558\uace0 \uc788\ub294 \uc694\uc18c\ub4e4\uc740 \uc18d\uc131\n",
      "    - \uc774\uba54\uc77c\uc740 \ud558\ub098\uc758 \uc608\uc774\uace0, \uc0c8\ub85c\uc6b4 \ub274\uc2a4 \uae30\uc0ac\ub098 \uc804\uc790 \uac8c\uc2dc\ud310, \uc815\ubd80\uc758 \ubb38\uc11c \ub610\ub294 \uadf8 \uc678 \ubb38\uc790 \ud615\ud0dc\ub85c \ub41c \uc5b4\ub5a0\ud55c \ubb38\uc11c\ub4e0 \ubd84\ub958\ud560 \uc218 \uc788\ub2e4.\n",
      "        - \uac01 \ub2e8\uc5b4\ub97c \uc18d\uc131\ucc98\ub7fc \uc0ac\uc6a9\ud558\uc5ec \ud574\ub2f9 \ubb38\uc11c\uc5d0 \uac01 \ub2e8\uc5b4\uac00 \uc874\uc7ac\ud558\ub294 \uc544\ub2cc\uc9c0\ub97c \ud655\uc778\ud574 \ubcfc \uc218 \uc788\ub2e4.\n",
      "        - \ubb38\uc11c\ub294 \uc5b4\ud718 \ubaa9\ub85d\uc5d0 \uc788\ub294 \ub2e8\uc5b4\ub4e4\ucc98\ub7fc \ub9ce\uc740 \uc18d\uc131\uc744 \uc81c\uacf5\n",
      "    - \ub098\uc774\ube0c \ubca0\uc774\uc2a4\ub294 \ubb38\uc11c \ubd84\ub958 \ubb38\uc81c\ub97c \ud574\uacb0\ud558\ub294 \ub370 \uc778\uae30 \uc788\ub294 \uc54c\uace0\ub9ac\uc998\n",
      "\n",
      "- \ubb38\uc11c\uc5d0\uc11c \uc18d\uc131\uc758 \uac1c\uc218\ub294 \uc5bc\ub9c8\ub098 \ub418\ub294\uac00?\n",
      "- \uc601\uc5b4\uc758 \uacbd\uc6b0 \ub2e8\uc5b4\ub294 50\ub9cc \uac1c\uac00 \ub118\ub294\ub2e4.\n",
      "- \ud558\ub098\uc758 \uc18d\uc131\uc5d0 N\uac1c\uc758 \ub370\uc774\ud130\uac00 \uc788\ub2e4\uba74, M\uac1c\uc758 \uc18d\uc131\uc774 \uc788\ub2e4\uba74, $N^M$\uac1c\uc758 \ud45c\ubcf8\uc774 \ud544\uc694\ud558\ub2e4. \n",
      "- "
     ]
    },
    {
     "cell_type": "markdown",
     "metadata": {},
     "source": []
    }
   ],
   "metadata": {}
  }
 ]
}